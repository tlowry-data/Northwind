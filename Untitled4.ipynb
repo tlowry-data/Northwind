{
 "cells": [
  {
   "cell_type": "code",
   "execution_count": 1,
   "id": "c90e7c26-9ff2-47a2-90b8-4cc65278ed09",
   "metadata": {
    "tags": []
   },
   "outputs": [],
   "source": [
    "import yfinance as yf"
   ]
  },
  {
   "cell_type": "code",
   "execution_count": null,
   "id": "d7499646-7da3-47fa-81c7-44e76bf07e70",
   "metadata": {},
   "outputs": [],
   "source": [
    "\n",
    "\n",
    "stocks = yf.download(tickers, start = start , end = end)\n",
    "alist = list(map(str, input(\"\\nEnter the stock symbols, ex. msft aapl ibm : \").strip().split()))[:num]"
   ]
  },
  {
   "cell_type": "code",
   "execution_count": null,
   "id": "8bb970da-3956-423f-82eb-198f3179a3e1",
   "metadata": {},
   "outputs": [],
   "source": []
  },
  {
   "cell_type": "code",
   "execution_count": null,
   "id": "e3f887fb-85e6-4918-93db-1c35cdf7a442",
   "metadata": {},
   "outputs": [],
   "source": []
  },
  {
   "cell_type": "code",
   "execution_count": null,
   "id": "67416e2d-8d99-4749-8ec4-88376259b3d9",
   "metadata": {},
   "outputs": [],
   "source": []
  },
  {
   "cell_type": "code",
   "execution_count": null,
   "id": "818e28a2-be9b-4018-9268-4a67550d9cc5",
   "metadata": {},
   "outputs": [],
   "source": []
  }
 ],
 "metadata": {
  "kernelspec": {
   "display_name": "Python 3 (ipykernel)",
   "language": "python",
   "name": "python3"
  },
  "language_info": {
   "codemirror_mode": {
    "name": "ipython",
    "version": 3
   },
   "file_extension": ".py",
   "mimetype": "text/x-python",
   "name": "python",
   "nbconvert_exporter": "python",
   "pygments_lexer": "ipython3",
   "version": "3.11.5"
  }
 },
 "nbformat": 4,
 "nbformat_minor": 5
}
